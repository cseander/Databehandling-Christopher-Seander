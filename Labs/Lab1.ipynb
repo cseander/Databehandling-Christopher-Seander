{
 "cells": [
  {
   "cell_type": "markdown",
   "metadata": {},
   "source": [
    "# Laboration - Covid-19\n",
    "## Uppgift 1 - uppvärmning covid-19 data"
   ]
  },
  {
   "cell_type": "code",
   "execution_count": 42,
   "metadata": {},
   "outputs": [],
   "source": [
    "import pandas as pd\n",
    "import seaborn as sns\n",
    "import plotly.express as px\n",
    "import matplotlib.pyplot as plt\n",
    "\n",
    "covid19_excel = \"Data\\Folkhalsomyndigheten_Covid19.xlsx\"\n",
    "covid19 = pd.read_excel(covid19_excel, sheet_name=\"Veckodata Riket\")"
   ]
  },
  {
   "cell_type": "markdown",
   "metadata": {},
   "source": [
    "## a)"
   ]
  },
  {
   "cell_type": "code",
   "execution_count": 43,
   "metadata": {},
   "outputs": [
    {
     "data": {
      "text/html": [
       "<div>\n",
       "<style scoped>\n",
       "    .dataframe tbody tr th:only-of-type {\n",
       "        vertical-align: middle;\n",
       "    }\n",
       "\n",
       "    .dataframe tbody tr th {\n",
       "        vertical-align: top;\n",
       "    }\n",
       "\n",
       "    .dataframe thead th {\n",
       "        text-align: right;\n",
       "    }\n",
       "</style>\n",
       "<table border=\"1\" class=\"dataframe\">\n",
       "  <thead>\n",
       "    <tr style=\"text-align: right;\">\n",
       "      <th></th>\n",
       "      <th>år</th>\n",
       "      <th>veckonummer</th>\n",
       "      <th>Antal_fall_vecka</th>\n",
       "      <th>Antal_fall_100000inv_vecka</th>\n",
       "      <th>Antal_fall_100000inv_14dagar</th>\n",
       "      <th>Kum_antal_fall</th>\n",
       "      <th>Kum_fall_100000inv</th>\n",
       "      <th>Antal_nyaintensivvårdade_vecka</th>\n",
       "      <th>Kum_antal_intensivvårdade</th>\n",
       "      <th>Antal_avlidna_vecka</th>\n",
       "      <th>Antal_avlidna_milj_inv_vecka</th>\n",
       "      <th>Kum_antal_avlidna</th>\n",
       "      <th>Kum_antal_avlidna_milj_inv</th>\n",
       "    </tr>\n",
       "  </thead>\n",
       "  <tbody>\n",
       "    <tr>\n",
       "      <th>0</th>\n",
       "      <td>2020</td>\n",
       "      <td>6</td>\n",
       "      <td>1</td>\n",
       "      <td>0</td>\n",
       "      <td>0</td>\n",
       "      <td>1</td>\n",
       "      <td>0</td>\n",
       "      <td>0</td>\n",
       "      <td>0</td>\n",
       "      <td>0</td>\n",
       "      <td>0.0</td>\n",
       "      <td>0</td>\n",
       "      <td>0.0</td>\n",
       "    </tr>\n",
       "    <tr>\n",
       "      <th>1</th>\n",
       "      <td>2020</td>\n",
       "      <td>7</td>\n",
       "      <td>0</td>\n",
       "      <td>0</td>\n",
       "      <td>0</td>\n",
       "      <td>1</td>\n",
       "      <td>0</td>\n",
       "      <td>0</td>\n",
       "      <td>0</td>\n",
       "      <td>0</td>\n",
       "      <td>0.0</td>\n",
       "      <td>0</td>\n",
       "      <td>0.0</td>\n",
       "    </tr>\n",
       "    <tr>\n",
       "      <th>2</th>\n",
       "      <td>2020</td>\n",
       "      <td>8</td>\n",
       "      <td>0</td>\n",
       "      <td>0</td>\n",
       "      <td>0</td>\n",
       "      <td>1</td>\n",
       "      <td>0</td>\n",
       "      <td>0</td>\n",
       "      <td>0</td>\n",
       "      <td>0</td>\n",
       "      <td>0.0</td>\n",
       "      <td>0</td>\n",
       "      <td>0.0</td>\n",
       "    </tr>\n",
       "    <tr>\n",
       "      <th>3</th>\n",
       "      <td>2020</td>\n",
       "      <td>9</td>\n",
       "      <td>13</td>\n",
       "      <td>0</td>\n",
       "      <td>0</td>\n",
       "      <td>14</td>\n",
       "      <td>0</td>\n",
       "      <td>0</td>\n",
       "      <td>0</td>\n",
       "      <td>0</td>\n",
       "      <td>0.0</td>\n",
       "      <td>0</td>\n",
       "      <td>0.0</td>\n",
       "    </tr>\n",
       "    <tr>\n",
       "      <th>4</th>\n",
       "      <td>2020</td>\n",
       "      <td>10</td>\n",
       "      <td>211</td>\n",
       "      <td>2</td>\n",
       "      <td>2</td>\n",
       "      <td>225</td>\n",
       "      <td>2</td>\n",
       "      <td>3</td>\n",
       "      <td>3</td>\n",
       "      <td>0</td>\n",
       "      <td>0.0</td>\n",
       "      <td>0</td>\n",
       "      <td>0.0</td>\n",
       "    </tr>\n",
       "  </tbody>\n",
       "</table>\n",
       "</div>"
      ],
      "text/plain": [
       "     år  veckonummer  Antal_fall_vecka  Antal_fall_100000inv_vecka  \\\n",
       "0  2020            6                 1                           0   \n",
       "1  2020            7                 0                           0   \n",
       "2  2020            8                 0                           0   \n",
       "3  2020            9                13                           0   \n",
       "4  2020           10               211                           2   \n",
       "\n",
       "   Antal_fall_100000inv_14dagar  Kum_antal_fall  Kum_fall_100000inv  \\\n",
       "0                             0               1                   0   \n",
       "1                             0               1                   0   \n",
       "2                             0               1                   0   \n",
       "3                             0              14                   0   \n",
       "4                             2             225                   2   \n",
       "\n",
       "   Antal_nyaintensivvårdade_vecka  Kum_antal_intensivvårdade  \\\n",
       "0                               0                          0   \n",
       "1                               0                          0   \n",
       "2                               0                          0   \n",
       "3                               0                          0   \n",
       "4                               3                          3   \n",
       "\n",
       "   Antal_avlidna_vecka  Antal_avlidna_milj_inv_vecka  Kum_antal_avlidna  \\\n",
       "0                    0                           0.0                  0   \n",
       "1                    0                           0.0                  0   \n",
       "2                    0                           0.0                  0   \n",
       "3                    0                           0.0                  0   \n",
       "4                    0                           0.0                  0   \n",
       "\n",
       "   Kum_antal_avlidna_milj_inv  \n",
       "0                         0.0  \n",
       "1                         0.0  \n",
       "2                         0.0  \n",
       "3                         0.0  \n",
       "4                         0.0  "
      ]
     },
     "execution_count": 43,
     "metadata": {},
     "output_type": "execute_result"
    }
   ],
   "source": [
    "covid19.head()"
   ]
  },
  {
   "cell_type": "code",
   "execution_count": 44,
   "metadata": {},
   "outputs": [
    {
     "name": "stdout",
     "output_type": "stream",
     "text": [
      "<class 'pandas.core.frame.DataFrame'>\n",
      "RangeIndex: 89 entries, 0 to 88\n",
      "Data columns (total 13 columns):\n",
      " #   Column                          Non-Null Count  Dtype  \n",
      "---  ------                          --------------  -----  \n",
      " 0   år                              89 non-null     int64  \n",
      " 1   veckonummer                     89 non-null     int64  \n",
      " 2   Antal_fall_vecka                89 non-null     int64  \n",
      " 3   Antal_fall_100000inv_vecka      89 non-null     int64  \n",
      " 4   Antal_fall_100000inv_14dagar    89 non-null     int64  \n",
      " 5   Kum_antal_fall                  89 non-null     int64  \n",
      " 6   Kum_fall_100000inv              89 non-null     int64  \n",
      " 7   Antal_nyaintensivvårdade_vecka  89 non-null     int64  \n",
      " 8   Kum_antal_intensivvårdade       89 non-null     int64  \n",
      " 9   Antal_avlidna_vecka             89 non-null     int64  \n",
      " 10  Antal_avlidna_milj_inv_vecka    89 non-null     float64\n",
      " 11  Kum_antal_avlidna               89 non-null     int64  \n",
      " 12  Kum_antal_avlidna_milj_inv      89 non-null     float64\n",
      "dtypes: float64(2), int64(11)\n",
      "memory usage: 9.2 KB\n"
     ]
    }
   ],
   "source": [
    "covid19.info()"
   ]
  },
  {
   "cell_type": "markdown",
   "metadata": {},
   "source": [
    "There are no Null/NaN values in any column and the type is either int or float."
   ]
  },
  {
   "cell_type": "code",
   "execution_count": 45,
   "metadata": {},
   "outputs": [
    {
     "data": {
      "text/html": [
       "<div>\n",
       "<style scoped>\n",
       "    .dataframe tbody tr th:only-of-type {\n",
       "        vertical-align: middle;\n",
       "    }\n",
       "\n",
       "    .dataframe tbody tr th {\n",
       "        vertical-align: top;\n",
       "    }\n",
       "\n",
       "    .dataframe thead th {\n",
       "        text-align: right;\n",
       "    }\n",
       "</style>\n",
       "<table border=\"1\" class=\"dataframe\">\n",
       "  <thead>\n",
       "    <tr style=\"text-align: right;\">\n",
       "      <th></th>\n",
       "      <th>år</th>\n",
       "      <th>veckonummer</th>\n",
       "      <th>Antal_fall_vecka</th>\n",
       "      <th>Antal_fall_100000inv_vecka</th>\n",
       "      <th>Antal_fall_100000inv_14dagar</th>\n",
       "      <th>Kum_antal_fall</th>\n",
       "      <th>Kum_fall_100000inv</th>\n",
       "      <th>Antal_nyaintensivvårdade_vecka</th>\n",
       "      <th>Kum_antal_intensivvårdade</th>\n",
       "      <th>Antal_avlidna_vecka</th>\n",
       "      <th>Antal_avlidna_milj_inv_vecka</th>\n",
       "      <th>Kum_antal_avlidna</th>\n",
       "      <th>Kum_antal_avlidna_milj_inv</th>\n",
       "    </tr>\n",
       "  </thead>\n",
       "  <tbody>\n",
       "    <tr>\n",
       "      <th>count</th>\n",
       "      <td>89.000000</td>\n",
       "      <td>89.000000</td>\n",
       "      <td>89.000000</td>\n",
       "      <td>89.000000</td>\n",
       "      <td>89.000000</td>\n",
       "      <td>8.900000e+01</td>\n",
       "      <td>89.000000</td>\n",
       "      <td>89.000000</td>\n",
       "      <td>89.000000</td>\n",
       "      <td>89.000000</td>\n",
       "      <td>89.000000</td>\n",
       "      <td>89.000000</td>\n",
       "      <td>89.000000</td>\n",
       "    </tr>\n",
       "    <tr>\n",
       "      <th>mean</th>\n",
       "      <td>2020.460674</td>\n",
       "      <td>25.584270</td>\n",
       "      <td>13061.865169</td>\n",
       "      <td>126.011236</td>\n",
       "      <td>251.584270</td>\n",
       "      <td>4.885261e+05</td>\n",
       "      <td>4709.325843</td>\n",
       "      <td>88.606742</td>\n",
       "      <td>4261.741573</td>\n",
       "      <td>167.910112</td>\n",
       "      <td>16.233708</td>\n",
       "      <td>8923.303371</td>\n",
       "      <td>860.923595</td>\n",
       "    </tr>\n",
       "    <tr>\n",
       "      <th>std</th>\n",
       "      <td>0.501275</td>\n",
       "      <td>13.713637</td>\n",
       "      <td>14210.652869</td>\n",
       "      <td>137.184472</td>\n",
       "      <td>272.989003</td>\n",
       "      <td>4.559136e+05</td>\n",
       "      <td>4391.041264</td>\n",
       "      <td>83.646662</td>\n",
       "      <td>2609.965149</td>\n",
       "      <td>204.302952</td>\n",
       "      <td>19.765609</td>\n",
       "      <td>5126.703711</td>\n",
       "      <td>493.286226</td>\n",
       "    </tr>\n",
       "    <tr>\n",
       "      <th>min</th>\n",
       "      <td>2020.000000</td>\n",
       "      <td>1.000000</td>\n",
       "      <td>0.000000</td>\n",
       "      <td>0.000000</td>\n",
       "      <td>0.000000</td>\n",
       "      <td>1.000000e+00</td>\n",
       "      <td>0.000000</td>\n",
       "      <td>0.000000</td>\n",
       "      <td>0.000000</td>\n",
       "      <td>0.000000</td>\n",
       "      <td>0.000000</td>\n",
       "      <td>0.000000</td>\n",
       "      <td>0.000000</td>\n",
       "    </tr>\n",
       "    <tr>\n",
       "      <th>25%</th>\n",
       "      <td>2020.000000</td>\n",
       "      <td>14.000000</td>\n",
       "      <td>2179.000000</td>\n",
       "      <td>21.000000</td>\n",
       "      <td>46.000000</td>\n",
       "      <td>7.279100e+04</td>\n",
       "      <td>705.000000</td>\n",
       "      <td>14.000000</td>\n",
       "      <td>2491.000000</td>\n",
       "      <td>17.000000</td>\n",
       "      <td>1.600000</td>\n",
       "      <td>5621.000000</td>\n",
       "      <td>544.299988</td>\n",
       "    </tr>\n",
       "    <tr>\n",
       "      <th>50%</th>\n",
       "      <td>2020.000000</td>\n",
       "      <td>25.000000</td>\n",
       "      <td>4608.000000</td>\n",
       "      <td>44.000000</td>\n",
       "      <td>100.000000</td>\n",
       "      <td>3.380260e+05</td>\n",
       "      <td>3273.000000</td>\n",
       "      <td>59.000000</td>\n",
       "      <td>3638.000000</td>\n",
       "      <td>82.000000</td>\n",
       "      <td>7.900000</td>\n",
       "      <td>8135.000000</td>\n",
       "      <td>787.700012</td>\n",
       "    </tr>\n",
       "    <tr>\n",
       "      <th>75%</th>\n",
       "      <td>2021.000000</td>\n",
       "      <td>36.000000</td>\n",
       "      <td>25405.000000</td>\n",
       "      <td>246.000000</td>\n",
       "      <td>485.000000</td>\n",
       "      <td>1.044862e+06</td>\n",
       "      <td>10067.000000</td>\n",
       "      <td>153.000000</td>\n",
       "      <td>7348.000000</td>\n",
       "      <td>235.000000</td>\n",
       "      <td>22.799999</td>\n",
       "      <td>14416.000000</td>\n",
       "      <td>1388.900024</td>\n",
       "    </tr>\n",
       "    <tr>\n",
       "      <th>max</th>\n",
       "      <td>2021.000000</td>\n",
       "      <td>53.000000</td>\n",
       "      <td>46177.000000</td>\n",
       "      <td>447.000000</td>\n",
       "      <td>869.000000</td>\n",
       "      <td>1.162506e+06</td>\n",
       "      <td>11200.000000</td>\n",
       "      <td>289.000000</td>\n",
       "      <td>7886.000000</td>\n",
       "      <td>664.000000</td>\n",
       "      <td>64.300003</td>\n",
       "      <td>14944.000000</td>\n",
       "      <td>1439.800049</td>\n",
       "    </tr>\n",
       "  </tbody>\n",
       "</table>\n",
       "</div>"
      ],
      "text/plain": [
       "                år  veckonummer  Antal_fall_vecka  Antal_fall_100000inv_vecka  \\\n",
       "count    89.000000    89.000000         89.000000                   89.000000   \n",
       "mean   2020.460674    25.584270      13061.865169                  126.011236   \n",
       "std       0.501275    13.713637      14210.652869                  137.184472   \n",
       "min    2020.000000     1.000000          0.000000                    0.000000   \n",
       "25%    2020.000000    14.000000       2179.000000                   21.000000   \n",
       "50%    2020.000000    25.000000       4608.000000                   44.000000   \n",
       "75%    2021.000000    36.000000      25405.000000                  246.000000   \n",
       "max    2021.000000    53.000000      46177.000000                  447.000000   \n",
       "\n",
       "       Antal_fall_100000inv_14dagar  Kum_antal_fall  Kum_fall_100000inv  \\\n",
       "count                     89.000000    8.900000e+01           89.000000   \n",
       "mean                     251.584270    4.885261e+05         4709.325843   \n",
       "std                      272.989003    4.559136e+05         4391.041264   \n",
       "min                        0.000000    1.000000e+00            0.000000   \n",
       "25%                       46.000000    7.279100e+04          705.000000   \n",
       "50%                      100.000000    3.380260e+05         3273.000000   \n",
       "75%                      485.000000    1.044862e+06        10067.000000   \n",
       "max                      869.000000    1.162506e+06        11200.000000   \n",
       "\n",
       "       Antal_nyaintensivvårdade_vecka  Kum_antal_intensivvårdade  \\\n",
       "count                       89.000000                  89.000000   \n",
       "mean                        88.606742                4261.741573   \n",
       "std                         83.646662                2609.965149   \n",
       "min                          0.000000                   0.000000   \n",
       "25%                         14.000000                2491.000000   \n",
       "50%                         59.000000                3638.000000   \n",
       "75%                        153.000000                7348.000000   \n",
       "max                        289.000000                7886.000000   \n",
       "\n",
       "       Antal_avlidna_vecka  Antal_avlidna_milj_inv_vecka  Kum_antal_avlidna  \\\n",
       "count            89.000000                     89.000000          89.000000   \n",
       "mean            167.910112                     16.233708        8923.303371   \n",
       "std             204.302952                     19.765609        5126.703711   \n",
       "min               0.000000                      0.000000           0.000000   \n",
       "25%              17.000000                      1.600000        5621.000000   \n",
       "50%              82.000000                      7.900000        8135.000000   \n",
       "75%             235.000000                     22.799999       14416.000000   \n",
       "max             664.000000                     64.300003       14944.000000   \n",
       "\n",
       "       Kum_antal_avlidna_milj_inv  \n",
       "count                   89.000000  \n",
       "mean                   860.923595  \n",
       "std                    493.286226  \n",
       "min                      0.000000  \n",
       "25%                    544.299988  \n",
       "50%                    787.700012  \n",
       "75%                   1388.900024  \n",
       "max                   1439.800049  "
      ]
     },
     "execution_count": 45,
     "metadata": {},
     "output_type": "execute_result"
    }
   ],
   "source": [
    "covid19.describe()"
   ]
  },
  {
   "cell_type": "code",
   "execution_count": 46,
   "metadata": {},
   "outputs": [
    {
     "data": {
      "text/plain": [
       "år    veckonummer  Antal_fall_vecka  Antal_fall_100000inv_vecka  Antal_fall_100000inv_14dagar  Kum_antal_fall  Kum_fall_100000inv  Antal_nyaintensivvårdade_vecka  Kum_antal_intensivvårdade  Antal_avlidna_vecka  Antal_avlidna_milj_inv_vecka  Kum_antal_avlidna  Kum_antal_avlidna_milj_inv\n",
       "2020  6            1                 0                           0                             1               0                   0                               0                          0                    0.0                           0                  0.000000                      1\n",
       "      51           46177             447                         869                           384203          3720                187                             3825                       645                  62.5                          8780               850.200012                    1\n",
       "2021  18           33680             324                         664                           1018946         9817                181                             7230                       105                  10.1                          14305              1378.199951                   1\n",
       "      17           35306             340                         687                           985266          9493                206                             7049                       114                  11.0                          14200              1368.099976                   1\n",
       "      16           36032             347                         742                           949960          9152                211                             6843                       131                  12.6                          14086              1357.099976                   1\n",
       "                                                                                                                                                                                                                                                                                                 ..\n",
       "2020  34           1687              16                          36                            83038           804                 8                               2565                       19                   1.8                           5779               559.599976                    1\n",
       "      33           2052              20                          40                            81351           788                 13                              2557                       16                   1.5                           5760               557.700012                    1\n",
       "      32           2014              20                          35                            79299           768                 16                              2544                       18                   1.7                           5744               556.200012                    1\n",
       "      31           1556              15                          28                            77285           748                 11                              2528                       18                   1.7                           5726               554.400024                    1\n",
       "2021  41           4062              39                          79                            1162506         11200               10                              7886                       18                   1.7                           14944              1439.800049                   1\n",
       "Length: 89, dtype: int64"
      ]
     },
     "execution_count": 46,
     "metadata": {},
     "output_type": "execute_result"
    }
   ],
   "source": [
    "covid19.value_counts()"
   ]
  },
  {
   "cell_type": "code",
   "execution_count": 47,
   "metadata": {},
   "outputs": [
    {
     "data": {
      "text/plain": [
       "Index(['år', 'veckonummer', 'Antal_fall_vecka', 'Antal_fall_100000inv_vecka',\n",
       "       'Antal_fall_100000inv_14dagar', 'Kum_antal_fall', 'Kum_fall_100000inv',\n",
       "       'Antal_nyaintensivvårdade_vecka', 'Kum_antal_intensivvårdade',\n",
       "       'Antal_avlidna_vecka', 'Antal_avlidna_milj_inv_vecka',\n",
       "       'Kum_antal_avlidna', 'Kum_antal_avlidna_milj_inv'],\n",
       "      dtype='object')"
      ]
     },
     "execution_count": 47,
     "metadata": {},
     "output_type": "execute_result"
    }
   ],
   "source": [
    "covid19.columns"
   ]
  },
  {
   "cell_type": "markdown",
   "metadata": {},
   "source": [
    "## b)"
   ]
  },
  {
   "cell_type": "code",
   "execution_count": 48,
   "metadata": {},
   "outputs": [
    {
     "data": {
      "text/plain": [
       "0      2020v6\n",
       "1      2020v7\n",
       "2      2020v8\n",
       "3      2020v9\n",
       "4     2020v10\n",
       "       ...   \n",
       "84    2021v37\n",
       "85    2021v38\n",
       "86    2021v39\n",
       "87    2021v40\n",
       "88    2021v41\n",
       "Name: Vecka, Length: 89, dtype: object"
      ]
     },
     "execution_count": 48,
     "metadata": {},
     "output_type": "execute_result"
    }
   ],
   "source": [
    "covid19[\"Vecka\"] = covid19[\"år\"].astype(str) + \"v\" + covid19[\"veckonummer\"].astype(str)\n",
    "covid19[\"Vecka\"]"
   ]
  },
  {
   "cell_type": "markdown",
   "metadata": {},
   "source": [
    "## c)"
   ]
  },
  {
   "cell_type": "code",
   "execution_count": 105,
   "metadata": {},
   "outputs": [
    {
     "data": {
      "text/plain": [
       "[Text(0.5, 0, 'Antal avlidna')]"
      ]
     },
     "execution_count": 105,
     "metadata": {},
     "output_type": "execute_result"
    },
    {
     "data": {
      "image/png": "[encoded data removed]",
      "text/plain": [
       "<Figure size 1440x720 with 4 Axes>"
      ]
     },
     "metadata": {
      "needs_background": "light"
     },
     "output_type": "display_data"
    }
   ],
   "source": [
    "fig, ax = plt.subplots(2, 2, figsize=(20, 10))\n",
    "\n",
    "death_per_week = sns.lineplot(data=covid19, y=\"Antal_avlidna_vecka\", x=\"Vecka\", ax=ax[0, 0])\n",
    "death_per_week.set(title=\"Avlidna fall per vecka\")\n",
    "death_per_week.set(xticks=covid19[\"Vecka\"][::11])\n",
    "death_per_week.set(xlabel=\"Antal avlidna\")"
   ]
  }
 ],
 "metadata": {
  "interpreter": {
   "hash": "ebc88f1c2826425dd239355448ecc1088e782b8f32313c8b3779c7840834113c"
  },
  "kernelspec": {
   "display_name": "Python 3.9.7 64-bit ('Databehandling-Christopher-Seander-nK1kobrV': virtualenv)",
   "name": "python3"
  },
  "language_info": {
   "codemirror_mode": {
    "name": "ipython",
    "version": 3
   },
   "file_extension": ".py",
   "mimetype": "text/x-python",
   "name": "python",
   "nbconvert_exporter": "python",
   "pygments_lexer": "ipython3",
   "version": "3.9.7"
  },
  "orig_nbformat": 4
 },
 "nbformat": 4,
 "nbformat_minor": 2
}
